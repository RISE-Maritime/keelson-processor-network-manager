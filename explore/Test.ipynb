{
 "cells": [
  {
   "cell_type": "markdown",
   "metadata": {},
   "source": [
    "## Test byte calculations"
   ]
  },
  {
   "cell_type": "code",
   "execution_count": 3,
   "metadata": {},
   "outputs": [],
   "source": [
    "\n",
    "size_in_mb = 0.0\n",
    "size_in_bytes = size_in_mb * 1024 * 1024  # 1MB = 1024KB = 1024 * 1024 bytes\n",
    "dummy_payload = bytearray(int(size_in_bytes))"
   ]
  },
  {
   "cell_type": "code",
   "execution_count": 4,
   "metadata": {},
   "outputs": [
    {
     "name": "stdout",
     "output_type": "stream",
     "text": [
      "Size of dummy_payload: 56 bytes\n",
      "Size of dummy_payload: 5.340576171875e-05 MB\n"
     ]
    }
   ],
   "source": [
    "import sys\n",
    "\n",
    "size_in_bytes = sys.getsizeof(dummy_payload)\n",
    "print(f\"Size of dummy_payload: {size_in_bytes} bytes\")\n",
    "\n",
    "size_in_mb = size_in_bytes / (1024 * 1024)\n",
    "print(f\"Size of dummy_payload: {size_in_mb} MB\")"
   ]
  }
 ],
 "metadata": {
  "kernelspec": {
   "display_name": "env",
   "language": "python",
   "name": "python3"
  },
  "language_info": {
   "codemirror_mode": {
    "name": "ipython",
    "version": 3
   },
   "file_extension": ".py",
   "mimetype": "text/x-python",
   "name": "python",
   "nbconvert_exporter": "python",
   "pygments_lexer": "ipython3",
   "version": "3.12.3"
  }
 },
 "nbformat": 4,
 "nbformat_minor": 2
}
